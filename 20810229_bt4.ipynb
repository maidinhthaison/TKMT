{
 "cells": [
  {
   "cell_type": "markdown",
   "metadata": {},
   "source": [
    "# Bài tập 4 - Tổng quan học máy\n",
    "\n",
    "*(Thống kê máy tính và ứng dụng - ĐTTX Kì 1 2023-2024)*"
   ]
  },
  {
   "cell_type": "markdown",
   "metadata": {},
   "source": [
    "MSSV: <...>\n",
    "\n",
    "Họ và tên: <...>"
   ]
  },
  {
   "cell_type": "markdown",
   "metadata": {},
   "source": [
    "Bài tập này thực hiện trên bộ dữ liệu `Auto MPG` (https://archive.ics.uci.edu/dataset/9/auto+mpg) với các yêu cầu sau."
   ]
  },
  {
   "cell_type": "markdown",
   "metadata": {},
   "source": [
    "## Yêu cầu 1 (1.5 đ)\n",
    "\n",
    "1. Mô tả bộ dữ liệu.\n",
    "\n",
    "2. Nạp bộ dữ liệu."
   ]
  },
  {
   "cell_type": "code",
   "execution_count": null,
   "metadata": {
    "vscode": {
     "languageId": "plaintext"
    }
   },
   "outputs": [],
   "source": []
  },
  {
   "cell_type": "markdown",
   "metadata": {},
   "source": [
    "# Yêu cầu 2 (2.5 đ)\n",
    "\n",
    "Phân tích thăm dò dữ liệu với biến mục tiêu là\n",
    "\n",
    "1. `mpg`\n",
    "\n",
    "2. `origin`"
   ]
  },
  {
   "cell_type": "code",
   "execution_count": null,
   "metadata": {
    "vscode": {
     "languageId": "plaintext"
    }
   },
   "outputs": [],
   "source": []
  },
  {
   "cell_type": "markdown",
   "metadata": {},
   "source": [
    "## Yêu cầu 3 (3 đ)\n",
    "\n",
    "Phân tích biến `mpg` theo các biến khác."
   ]
  },
  {
   "cell_type": "code",
   "execution_count": null,
   "metadata": {
    "vscode": {
     "languageId": "plaintext"
    }
   },
   "outputs": [],
   "source": []
  },
  {
   "cell_type": "markdown",
   "metadata": {},
   "source": [
    "## Yêu cầu 4 (3 đ)\n",
    "\n",
    "Phân tích biến `origin` theo các biến khác."
   ]
  },
  {
   "cell_type": "code",
   "execution_count": null,
   "metadata": {
    "vscode": {
     "languageId": "plaintext"
    }
   },
   "outputs": [],
   "source": []
  }
 ],
 "metadata": {
  "language_info": {
   "name": "python"
  },
  "orig_nbformat": 4
 },
 "nbformat": 4,
 "nbformat_minor": 2
}
