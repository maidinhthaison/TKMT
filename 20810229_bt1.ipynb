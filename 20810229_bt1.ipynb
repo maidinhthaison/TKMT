{
 "cells": [
  {
   "cell_type": "markdown",
   "metadata": {},
   "source": [
    "# Bài tập 1 - Ôn tập Python\n",
    "\n",
    "*(Thống kê máy tính và ứng dụng - ĐTTX Kì 1 2023-2024)*"
   ]
  },
  {
   "cell_type": "markdown",
   "metadata": {},
   "source": [
    "MSSV: 20810229\n",
    "\n",
    "Họ và tên: Mai Đình Thái Sơn"
   ]
  },
  {
   "cell_type": "markdown",
   "metadata": {},
   "source": [
    "## Nạp dữ liệu\n",
    "\n",
    "Toàn bộ nội dung Truyện Kiều đã được \"chuẩn hóa\" và để trong tập tin `TruyenKieu.txt`, mỗi câu trên một dòng.\n",
    "\n",
    "Vì ngữ liệu (dữ liệu văn bản thường được gọi là ngữ liệu) khá nhỏ nên ta sẽ nạp toàn bộ vào biến `txt` và sau đó xử lý biến này."
   ]
  },
  {
   "cell_type": "code",
   "execution_count": 1,
   "metadata": {},
   "outputs": [],
   "source": [
    "with open(\"TruyenKieu.txt\", encoding=\"utf-8\") as f:\n",
    "    txt = f.read()"
   ]
  },
  {
   "cell_type": "markdown",
   "metadata": {},
   "source": [
    "200 kí tự đầu tiên"
   ]
  },
  {
   "cell_type": "code",
   "execution_count": 2,
   "metadata": {},
   "outputs": [
    {
     "data": {
      "text/plain": [
       "'trăm năm trong cõi người ta\\nchữ tài chữ mệnh khéo là ghét nhau\\ntrải qua một cuộc bể dâu\\nnhững điều trông thấy mà đau đớn lòng\\nlạ gì bỉ sắc tư phong\\ntrời xanh quen thói má hồng đánh ghen\\ncảo thơm lần g'"
      ]
     },
     "execution_count": 2,
     "metadata": {},
     "output_type": "execute_result"
    }
   ],
   "source": [
    "txt[:200]"
   ]
  },
  {
   "cell_type": "markdown",
   "metadata": {},
   "source": [
    "200 kí tự cuối cùng"
   ]
  },
  {
   "cell_type": "code",
   "execution_count": 3,
   "metadata": {},
   "outputs": [
    {
     "data": {
      "text/plain": [
       "'chữ tai một vần\\nđã mang lấy nghiệp vào thân\\ncũng đừng trách lẫn trời gần trời xa\\nthiện căn ở tại lòng ta\\nchữ tâm kia mới bằng ba chữ tài\\nlời quê chắp nhặt dông dài\\nmua vui cũng được một vài trống canh'"
      ]
     },
     "execution_count": 3,
     "metadata": {},
     "output_type": "execute_result"
    }
   ],
   "source": [
    "txt[-200:]"
   ]
  },
  {
   "cell_type": "markdown",
   "metadata": {},
   "source": [
    "Nhận xét là việc xuống dòng được mô tả bởi kí tự `newline (\\n)`."
   ]
  },
  {
   "cell_type": "markdown",
   "metadata": {},
   "source": [
    "## Yêu cầu\n",
    "\n",
    "Sinh viên viết code Python để thực hiện các yêu cầu sau"
   ]
  },
  {
   "cell_type": "markdown",
   "metadata": {},
   "source": [
    "### Câu 1 (0.5 đ) - Đếm số lượng câu\n",
    "\n",
    "*Đáp án:* 3254 (câu)"
   ]
  },
  {
   "cell_type": "code",
   "execution_count": 4,
   "metadata": {},
   "outputs": [
    {
     "data": {
      "text/plain": [
       "['trăm năm trong cõi người ta',\n",
       " 'chữ tài chữ mệnh khéo là ghét nhau',\n",
       " 'trải qua một cuộc bể dâu']"
      ]
     },
     "execution_count": 4,
     "metadata": {},
     "output_type": "execute_result"
    }
   ],
   "source": [
    "# Tách câu\n",
    "sentences = txt.split(\"\\n\")\n",
    "sentences[:3]"
   ]
  },
  {
   "cell_type": "code",
   "execution_count": 5,
   "metadata": {},
   "outputs": [
    {
     "name": "stdout",
     "output_type": "stream",
     "text": [
      "Số lượng câu : 3254 câu\n"
     ]
    }
   ],
   "source": [
    "print(f'Số lượng câu : {len(sentences)} câu')"
   ]
  },
  {
   "cell_type": "markdown",
   "metadata": {},
   "source": [
    "### Câu 2 (0.5 đ) - Truy vấn câu (1)\n",
    "\n",
    "Cho người dùng chọn số thứ tự `k` và xuất ra câu thứ `k` (tính từ 1).\n",
    "\n",
    "*Ví dụ 1:* \n",
    "  - Input: `k = 15`\n",
    "\n",
    "  - Output: 15. đầu lòng hai ả tố nga\n",
    "  \n",
    "*Ví dụ 2:* \n",
    "  - Input: `k = 4000`\n",
    "  \n",
    "  - Output: Số thứ tự không hợp lệ"
   ]
  },
  {
   "cell_type": "code",
   "execution_count": 6,
   "metadata": {},
   "outputs": [
    {
     "name": "stdout",
     "output_type": "stream",
     "text": [
      "những điều trông thấy mà đau đớn lòng\n"
     ]
    }
   ],
   "source": [
    "index = int(input('Nhập số thứ tự câu : '))\n",
    "print(f'{sentences[index-1]}') if index in range(1,len(sentences)+1) else print('Số thứ tự không hợp lệ')"
   ]
  },
  {
   "cell_type": "markdown",
   "metadata": {},
   "source": [
    "### Câu 3 (0.5 đ) - Truy vấn câu (2)\n",
    "\n",
    "Cho người dùng chọn số thứ tự `k` và số lượng câu `l`, xuất ra `l` câu kể từ câu thứ `k` (tính từ 1).\n",
    "\n",
    "*Ví dụ 1:* \n",
    "  - Input: `k = 15, l = 4`\n",
    "\n",
    "  - Output: \n",
    "           \n",
    "           15. đầu lòng hai ả tố nga\n",
    "           \n",
    "           16. thúy kiều là chị em là thúy vân\n",
    "           \n",
    "           17. mai cốt cách tuyết tinh thần\n",
    "           \n",
    "           18. mỗi người một vẻ mười phân vẹn mười \n",
    "  \n",
    "*Ví dụ 2:* \n",
    "  - Input: `k = 3253, l = 4`\n",
    "  \n",
    "  - Output:\n",
    "           \n",
    "           3253. lời quê chắp nhặt dông dài\n",
    "           \n",
    "           3254. mua vui cũng được một vài trống canh"
   ]
  },
  {
   "cell_type": "code",
   "execution_count": 7,
   "metadata": {},
   "outputs": [
    {
     "name": "stdout",
     "output_type": "stream",
     "text": [
      "12.  gia tư nghĩ cũng thường thường bực trung\n",
      "13.  một trai con thứ rốt lòng\n",
      "14.  vương quan là chữ nối dòng nho gia\n",
      "15.  đầu lòng hai ả tố nga\n",
      "16.  thúy kiều là chị em là thúy vân\n"
     ]
    }
   ],
   "source": [
    "k = int(input('Nhập số thứ tự : '))\n",
    "l = int(input('Nhập số lượng câu : '))\n",
    "result = sentences[k-1:k-1+l]\n",
    "for i  in  range(len(result)):\n",
    "    print(f'{k+i}. ',result[i])\n"
   ]
  },
  {
   "cell_type": "markdown",
   "metadata": {},
   "source": [
    "### Câu 4 (0.5 đ) - Truy vấn câu (3)\n",
    "\n",
    "Tìm các câu có cụm từ được cho (không phân biệt hoa thường)\n",
    "\n",
    "*Ví dụ:* \n",
    "  - Input: `Thúy Kiều`\n",
    "\n",
    "  - Output: \n",
    "           \n",
    "           16. thúy kiều là chị em là thúy vân\n",
    "           \n",
    "           2659. thúy kiều sắc sảo khôn ngoan\n",
    "           \n",
    "           2681. xét trong tội nghiệp thúy kiều\n",
    "           \n",
    "           2891. thúy kiều tài sắc ai bì"
   ]
  },
  {
   "cell_type": "code",
   "execution_count": 8,
   "metadata": {},
   "outputs": [
    {
     "name": "stdout",
     "output_type": "stream",
     "text": [
      "16. thúy kiều là chị em là thúy vân\n",
      "2659. thúy kiều sắc sảo khôn ngoan\n",
      "2681. xét trong tội nghiệp thúy kiều\n",
      "2891. thúy kiều tài sắc ai bì\n"
     ]
    }
   ],
   "source": [
    "result = [i for i in sentences if 'Thúy Kiều'.casefold() in i]\n",
    "for i in range(len(result)):\n",
    "    print(f'{sentences.index(result[i])+1}. {result[i]}')"
   ]
  },
  {
   "cell_type": "markdown",
   "metadata": {},
   "source": [
    "### Câu 5 (0.5 đ) - Đếm số lần xuất hiện cụm từ\n",
    "\n",
    "Đếm số lần xuất hiện cụm từ được cho (không phân biệt hoa thường)\n",
    "\n",
    "*Ví dụ 1:* \n",
    "  - Input: `Thúy Kiều`\n",
    "\n",
    "  - Output: 4 (lần)\n",
    "  \n",
    "*Ví dụ 2:* \n",
    "  - Input: `Kiều`\n",
    "  \n",
    "  - Output: 29 (lần)"
   ]
  },
  {
   "cell_type": "code",
   "execution_count": 9,
   "metadata": {},
   "outputs": [
    {
     "name": "stdout",
     "output_type": "stream",
     "text": [
      "Thúy Kiều xuất hiện 4 lần\n"
     ]
    }
   ],
   "source": [
    "param = 'Thúy Kiều'\n",
    "result = [i for i in sentences if param.casefold() in i]\n",
    "print(f'{param} xuất hiện {len(result)} lần')"
   ]
  },
  {
   "cell_type": "markdown",
   "metadata": {},
   "source": [
    "### Câu 6 (0.5 đ) - Đếm số lượng từ\n",
    "\n",
    "*Lưu ý*: khái niệm **từ (word)** ở đây có nghĩa là tiếng trong Tiếng Việt. Ví dụ: Thúy Kiều gồm 2 từ là Thúy và Kiều. (Khái niệm từ của Tiếng Việt, bao gồm từ ghép như từ Thúy-Kiều, cần được xử lý phức tạp hơn.)\n",
    "\n",
    "*Đáp án:* 22778 (từ)"
   ]
  },
  {
   "cell_type": "code",
   "execution_count": 10,
   "metadata": {},
   "outputs": [
    {
     "data": {
      "text/plain": [
       "['trăm', 'năm', 'trong', 'cõi', 'người', 'ta', 'chữ', 'tài', 'chữ', 'mệnh']"
      ]
     },
     "execution_count": 10,
     "metadata": {},
     "output_type": "execute_result"
    }
   ],
   "source": [
    "# Tách từ\n",
    "words = txt.split()\n",
    "words[:10]"
   ]
  },
  {
   "cell_type": "code",
   "execution_count": 11,
   "metadata": {},
   "outputs": [
    {
     "name": "stdout",
     "output_type": "stream",
     "text": [
      "Số lượng từ: 22778 (từ)\n"
     ]
    }
   ],
   "source": [
    "words = txt.split()\n",
    "print(f'Số lượng từ: {len(words)} (từ)')"
   ]
  },
  {
   "cell_type": "markdown",
   "metadata": {},
   "source": [
    "### Câu 7 (0.5 đ) - Đếm số lượng mặt từ\n",
    "\n",
    "*Lưu ý*: khái niệm **mặt từ** chỉ sự xuất hiện của từ mà không kể số lần xuất hiện. Ví dụ: câu \"học sinh học sinh học\" thì có 2 mặt từ là \"học\" và \"sinh\". (Ngược lại, câu đó có 5 từ.)\n",
    "\n",
    "*Đáp án:* 2383 (mặt từ)"
   ]
  },
  {
   "cell_type": "code",
   "execution_count": 12,
   "metadata": {},
   "outputs": [
    {
     "name": "stdout",
     "output_type": "stream",
     "text": [
      "Số lượng mặt từ: 2383\n"
     ]
    }
   ],
   "source": [
    "resultSet = set(words)\n",
    "print(f'Số lượng mặt từ: {len(resultSet)}')"
   ]
  },
  {
   "cell_type": "markdown",
   "metadata": {},
   "source": [
    "### Câu 8 (0.5 đ) - Thống kê số lần xuất hiện (tần số) từ (1)\n",
    "\n",
    "Liệt kê danh sách `k` từ xuất hiện nhiều nhất theo thứ tự giảm dần."
   ]
  },
  {
   "cell_type": "code",
   "execution_count": 13,
   "metadata": {},
   "outputs": [
    {
     "name": "stdout",
     "output_type": "stream",
     "text": [
      "{'một': 321, 'đã': 263, 'người': 223, 'nàng': 200, 'lòng': 174, 'lời': 172, 'là': 170, 'cho': 170, 'cũng': 169, 'có': 161}\n"
     ]
    }
   ],
   "source": [
    "k=10\n",
    "dict_count = {i:words.count(i) for i in words}\n",
    "tuple_sorted = sorted(dict_count.items(), key=lambda x:x[1], reverse=True)\n",
    "dict_result = {i[0]: i[1] for i in tuple_sorted[:k]}\n",
    "print(dict_result)"
   ]
  },
  {
   "cell_type": "markdown",
   "metadata": {},
   "source": [
    "### Câu 9 (0.5 đ) - Thống kê tần số từ (2)\n",
    "\n",
    "Liệt kê danh sách `k` từ xuất hiện ít nhất theo thứ tự tăng dần."
   ]
  },
  {
   "cell_type": "code",
   "execution_count": 14,
   "metadata": {},
   "outputs": [
    {
     "name": "stdout",
     "output_type": "stream",
     "text": [
      "{'sử': 1, 'phẳng': 1, 'bực': 1, 'rốt': 1, 'đặn': 1, 'làu': 1, 'sấp': 1, 'xỉ': 1, 'đềm': 1, 'thiều': 1}\n"
     ]
    }
   ],
   "source": [
    "k=10\n",
    "dict_count = {i:words.count(i) for i in words}\n",
    "tuple_sorted = sorted(dict_count.items(), key=lambda x:x[1])\n",
    "dict_result = {i[0]: i[1] for i in tuple_sorted[:k]}\n",
    "print(dict_result)\n"
   ]
  },
  {
   "cell_type": "markdown",
   "metadata": {},
   "source": [
    "### Câu 10 (0.5 đ) - Thống kê tần số kí tự (1)\n",
    "\n",
    "Liệt kê tất cả các chữ cái và tần số, tần suất theo thứ tự chữ cái trong bảng chữ cái Tiếng Việt."
   ]
  },
  {
   "cell_type": "code",
   "execution_count": 40,
   "metadata": {},
   "outputs": [
    {
     "name": "stdout",
     "output_type": "stream",
     "text": [
      "Chữ a xuất hiện: 2820 lần\n",
      "Chữ ă xuất hiện: 262 lần\n",
      "Chữ â xuất hiện: 919 lần\n",
      "Chữ b xuất hiện: 1076 lần\n",
      "Chữ c xuất hiện: 3601 lần\n",
      "Chữ d xuất hiện: 754 lần\n",
      "Chữ đ xuất hiện: 1850 lần\n",
      "Chữ e xuất hiện: 350 lần\n",
      "Chữ ê xuất hiện: 672 lần\n",
      "Chữ g xuất hiện: 5412 lần\n",
      "Chữ h xuất hiện: 6372 lần\n",
      "Chữ i xuất hiện: 4800 lần\n",
      "Chữ k xuất hiện: 718 lần\n",
      "Chữ l xuất hiện: 1610 lần\n",
      "Chữ m xuất hiện: 2575 lần\n",
      "Chữ n xuất hiện: 10342 lần\n",
      "Chữ o xuất hiện: 1665 lần\n",
      "Chữ ô xuất hiện: 578 lần\n",
      "Chữ ơ xuất hiện: 604 lần\n",
      "Chữ p xuất hiện: 707 lần\n",
      "Chữ q xuất hiện: 302 lần\n",
      "Chữ r xuất hiện: 1599 lần\n",
      "Chữ s xuất hiện: 847 lần\n",
      "Chữ t xuất hiện: 5034 lần\n",
      "Chữ u xuất hiện: 2218 lần\n",
      "Chữ ư xuất hiện: 1630 lần\n",
      "Chữ v xuất hiện: 910 lần\n",
      "Chữ x xuất hiện: 500 lần\n",
      "Chữ y xuất hiện: 1623 lần\n"
     ]
    }
   ],
   "source": [
    "my_list = []\n",
    "chu_cai_tv =['a', 'ă', 'â', 'b', 'c', 'd', 'đ', 'e', 'ê', 'g', 'h', 'i', 'k', 'l', 'm',\n",
    "             'n', 'o', 'ô', 'ơ', 'p', 'q', 'r', 's', 't', 'u', 'ư', 'v', 'x', 'y']\n",
    "for word in words:\n",
    "    my_dict = {i:word.count(i) for i in chu_cai_tv}\n",
    "    my_list.append(my_dict)\n",
    "\n",
    "dict_sum = {k: sum(d[k] for d in my_list if k in d) for k in set(k for d in my_list for k in d)}\n",
    "dict_result = {k: dict_sum[k] for k in chu_cai_tv if k in dict_sum}\n",
    "for k, v in dict_result.items():\n",
    "     print ('Chữ {0} xuất hiện: {1} lần'.format(str(k), str(v)))\n",
    "\n"
   ]
  },
  {
   "cell_type": "markdown",
   "metadata": {},
   "source": [
    "### Câu 11 (0.5 đ) - Thống kê tần số kí tự (2)\n",
    "\n",
    "Liệt kê tất cả các chữ cái và tần số, tần suất theo thứ tự tần số giảm dần"
   ]
  },
  {
   "cell_type": "code",
   "execution_count": 16,
   "metadata": {},
   "outputs": [
    {
     "name": "stdout",
     "output_type": "stream",
     "text": [
      "Chữ n xuất hiện: 10342 lần\n",
      "Chữ h xuất hiện: 6372 lần\n",
      "Chữ g xuất hiện: 5412 lần\n",
      "Chữ t xuất hiện: 5034 lần\n",
      "Chữ i xuất hiện: 4800 lần\n",
      "Chữ c xuất hiện: 3601 lần\n",
      "Chữ a xuất hiện: 2820 lần\n",
      "Chữ m xuất hiện: 2575 lần\n",
      "Chữ u xuất hiện: 2218 lần\n",
      "Chữ à xuất hiện: 2125 lần\n",
      "Chữ đ xuất hiện: 1850 lần\n",
      "Chữ o xuất hiện: 1665 lần\n",
      "Chữ ư xuất hiện: 1630 lần\n",
      "Chữ y xuất hiện: 1623 lần\n",
      "Chữ l xuất hiện: 1610 lần\n",
      "Chữ r xuất hiện: 1599 lần\n",
      "Chữ b xuất hiện: 1076 lần\n",
      "Chữ ờ xuất hiện: 1021 lần\n",
      "Chữ â xuất hiện: 919 lần\n",
      "Chữ v xuất hiện: 910 lần\n",
      "Chữ s xuất hiện: 847 lần\n",
      "Chữ d xuất hiện: 754 lần\n",
      "Chữ k xuất hiện: 718 lần\n",
      "Chữ p xuất hiện: 707 lần\n",
      "Chữ ê xuất hiện: 672 lần\n",
      "Chữ ế xuất hiện: 625 lần\n",
      "Chữ ì xuất hiện: 605 lần\n",
      "Chữ ơ xuất hiện: 604 lần\n",
      "Chữ á xuất hiện: 588 lần\n",
      "Chữ ô xuất hiện: 578 lần\n",
      "Chữ ớ xuất hiện: 577 lần\n",
      "Chữ ạ xuất hiện: 557 lần\n",
      "Chữ ầ xuất hiện: 544 lần\n",
      "Chữ ó xuất hiện: 533 lần\n",
      "Chữ ấ xuất hiện: 513 lần\n",
      "Chữ ộ xuất hiện: 509 lần\n",
      "Chữ x xuất hiện: 500 lần\n",
      "Chữ ề xuất hiện: 481 lần\n",
      "Chữ ò xuất hiện: 439 lần\n",
      "Chữ ã xuất hiện: 370 lần\n",
      "Chữ e xuất hiện: 350 lần\n",
      "Chữ ồ xuất hiện: 327 lần\n",
      "Chữ ố xuất hiện: 311 lần\n",
      "Chữ q xuất hiện: 302 lần\n",
      "Chữ ắ xuất hiện: 265 lần\n",
      "Chữ ă xuất hiện: 262 lần\n",
      "Chữ ả xuất hiện: 255 lần\n",
      "Chữ ặ xuất hiện: 243 lần\n",
      "Chữ ậ xuất hiện: 226 lần\n",
      "Chữ ọ xuất hiện: 225 lần\n",
      "Chữ ằ xuất hiện: 221 lần\n",
      "Chữ ú xuất hiện: 220 lần\n",
      "Chữ ệ xuất hiện: 208 lần\n",
      "Chữ ũ xuất hiện: 203 lần\n",
      "Chữ ừ xuất hiện: 196 lần\n",
      "Chữ ù xuất hiện: 190 lần\n",
      "Chữ ữ xuất hiện: 186 lần\n",
      "Chữ ở xuất hiện: 172 lần\n",
      "Chữ ợ xuất hiện: 168 lần\n",
      "Chữ ử xuất hiện: 152 lần\n",
      "Chữ ể xuất hiện: 143 lần\n",
      "Chữ é xuất hiện: 136 lần\n",
      "Chữ ụ xuất hiện: 135 lần\n",
      "Chữ ẳ xuất hiện: 134 lần\n",
      "Chữ ỏ xuất hiện: 130 lần\n",
      "Chữ ứ xuất hiện: 125 lần\n",
      "Chữ ự xuất hiện: 117 lần\n",
      "Chữ í xuất hiện: 110 lần\n",
      "Chữ ỗ xuất hiện: 102 lần\n",
      "Chữ ổ xuất hiện: 96 lần\n",
      "Chữ ẻ xuất hiện: 92 lần\n",
      "Chữ ĩ xuất hiện: 90 lần\n",
      "Chữ ủ xuất hiện: 86 lần\n",
      "Chữ ễ xuất hiện: 81 lần\n",
      "Chữ ị xuất hiện: 78 lần\n",
      "Chữ è xuất hiện: 68 lần\n",
      "Chữ ỉ xuất hiện: 61 lần\n",
      "Chữ ẹ xuất hiện: 56 lần\n",
      "Chữ ẫ xuất hiện: 50 lần\n",
      "Chữ ỡ xuất hiện: 50 lần\n",
      "Chữ ẽ xuất hiện: 45 lần\n",
      "Chữ õ xuất hiện: 42 lần\n",
      "Chữ ẩ xuất hiện: 41 lần\n",
      "Chữ ý xuất hiện: 28 lần\n",
      "Chữ ẵ xuất hiện: 27 lần\n",
      "Chữ ỳ xuất hiện: 21 lần\n",
      "Chữ ỷ xuất hiện: 7 lần\n",
      "Chữ ỹ xuất hiện: 2 lần\n"
     ]
    }
   ],
   "source": [
    "my_list = []\n",
    "for word in words:\n",
    "    my_dict = {i:word.count(i) for i in word}\n",
    "    my_list.append(my_dict)  \n",
    "dict_sum = {k: sum(d[k] for d in my_list if k in d) for k in set(k for d in my_list for k in d)}\n",
    "sorted_dict = {key: value for key, value in sorted(dict_sum.items(),key= lambda x:x[1], reverse = True)}\n",
    "for k, v in sorted_dict.items():\n",
    "     print ('Chữ {0} xuất hiện: {1} lần'.format(str(k), str(v))) "
   ]
  },
  {
   "cell_type": "markdown",
   "metadata": {},
   "source": [
    "### Câu 12 (0.5 đ) - Thống kê tần số kí tự (3)\n",
    "\n",
    "Liệt kê tất cả các nguyên âm Tiếng Việt và tần số, tần suất theo thứ tự tần số giảm dần"
   ]
  },
  {
   "cell_type": "code",
   "execution_count": 17,
   "metadata": {},
   "outputs": [
    {
     "name": "stdout",
     "output_type": "stream",
     "text": [
      "Chữ i xuất hiện: 4800 lần\n",
      "Chữ a xuất hiện: 2820 lần\n",
      "Chữ u xuất hiện: 2218 lần\n",
      "Chữ o xuất hiện: 1665 lần\n",
      "Chữ ư xuất hiện: 1630 lần\n",
      "Chữ y xuất hiện: 1623 lần\n",
      "Chữ â xuất hiện: 919 lần\n",
      "Chữ ê xuất hiện: 672 lần\n",
      "Chữ ơ xuất hiện: 604 lần\n",
      "Chữ ô xuất hiện: 578 lần\n",
      "Chữ e xuất hiện: 350 lần\n",
      "Chữ ă xuất hiện: 262 lần\n"
     ]
    }
   ],
   "source": [
    "nguyen_am=['a', 'ă', 'â', 'e', 'ê', 'i', 'o', 'ô', 'ơ', 'u', 'ư', 'y']\n",
    "\n",
    "my_list = []\n",
    "for word in words:\n",
    "    dict_count = {i:word.count(i) for i in nguyen_am}\n",
    "    my_list.append(dict_count)  \n",
    "dict_result = {k: sum(d[k] for d in my_list if k in d) for k in set(k for d in my_list for k in d)}\n",
    "sorted_dict = {key: value for key, value in sorted(dict_result.items(),key= lambda x:x[1], reverse = True)}\n",
    "for k, v in sorted_dict.items():\n",
    "     print (f'Chữ {str(k)} xuất hiện: {str(v)} lần' )"
   ]
  },
  {
   "cell_type": "markdown",
   "metadata": {},
   "source": [
    "### Câu 13 (1 đ) - Thống kê tần số bigram word\n",
    "\n",
    "Một **n-gram word** là một dãy liên tiếp gồm *n* từ. Một từ có thể xem là 1-gram và được gọi là **unigram**. 2-gram được gọi là **bigram**, 3-gram được gọi là **trigram**. \n",
    "\n",
    "*Ví dụ:* câu \"học sinh học sinh học\" thì có các bigram lần lượt là: học_sinh, sinh_học, học_sinh, sinh_học. Bigram học_sinh có tần số là 2, bigram sinh_học cũng có tần số là 2.\n",
    "\n",
    "Liệt kê danh sách `k` bigram xuất hiện nhiều nhất theo thứ tự giảm dần."
   ]
  },
  {
   "cell_type": "code",
   "execution_count": 18,
   "metadata": {},
   "outputs": [
    {
     "name": "stdout",
     "output_type": "stream",
     "text": [
      "Tần số xuất hiện 10 bigram giảm dần:\n",
      "Từ 'nàng rằng' xuất hiện: 33 lần\n",
      "Từ 'một lời' xuất hiện: 26 lần\n",
      "Từ 'bây giờ' xuất hiện: 23 lần\n",
      "Từ 'một mình' xuất hiện: 21 lần\n",
      "Từ 'nàng mới' xuất hiện: 20 lần\n",
      "Từ 'tiểu thư' xuất hiện: 19 lần\n",
      "Từ 'một nhà' xuất hiện: 18 lần\n",
      "Từ 'làm chi' xuất hiện: 17 lần\n",
      "Từ 'bấy lâu' xuất hiện: 17 lần\n",
      "Từ 'vội vàng' xuất hiện: 17 lần\n"
     ]
    }
   ],
   "source": [
    "k=10\n",
    "freq_dict = {}\n",
    "for i in range(1, len(words)):\n",
    "    bigram = words[i-1:i+1]\n",
    "    key_bigram = ' '.join([str(element) for element in bigram])\n",
    "    if key_bigram in freq_dict:\n",
    "        freq_dict[key_bigram] += 1\n",
    "    else:\n",
    "        freq_dict[key_bigram] = 1   \n",
    "tuple_sorted = sorted(freq_dict.items(), key=lambda x:x[1], reverse= True)\n",
    "dict_sorted_result = {i[0]: i[1] for i in tuple_sorted[:k]}\n",
    "print(f'Tần số xuất hiện {k} bigram giảm dần:')\n",
    "for k, v in dict_sorted_result.items():\n",
    "     print (f'Từ \\'{str(k)}\\' xuất hiện: {str(v)} lần' ) "
   ]
  },
  {
   "cell_type": "markdown",
   "metadata": {},
   "source": [
    "## Làm thơ tự động\n",
    "\n",
    "Phần này dùng **\"mô hình bigram\"** để sinh thơ đơn giản từ ngữ liệu Truyện Kiều trên."
   ]
  },
  {
   "cell_type": "markdown",
   "metadata": {},
   "source": [
    "**Thể thơ lục bát** gồm các cặp câu ghép lại. Mỗi cặp gồm một **câu lục** 6 tiếng và một **câu bát** 8 tiếng. Do đó, ta sẽ tách Truyện Kiều ra các cặp câu, mỗi câu ta cũng tách các từ. Hơn nữa, để thuận tiện cho việc phân tích ta thêm các kí hiệu `<s>` vào đầu câu lục, `<m>` kết thúc câu lục (cũng là bắt đầu câu bát) và `<e>` kết thúc câu bát."
   ]
  },
  {
   "cell_type": "code",
   "execution_count": 19,
   "metadata": {},
   "outputs": [],
   "source": [
    "pair_words = [[\"<s>\"] + s1.split() + [\"<m>\"] + s2.split() + [\"<e>\"] \n",
    "              for s1, s2 in zip(sentences[::2], sentences[1::2])]"
   ]
  },
  {
   "cell_type": "code",
   "execution_count": 20,
   "metadata": {},
   "outputs": [
    {
     "data": {
      "text/plain": [
       "['<s>',\n",
       " 'trăm',\n",
       " 'năm',\n",
       " 'trong',\n",
       " 'cõi',\n",
       " 'người',\n",
       " 'ta',\n",
       " '<m>',\n",
       " 'chữ',\n",
       " 'tài',\n",
       " 'chữ',\n",
       " 'mệnh',\n",
       " 'khéo',\n",
       " 'là',\n",
       " 'ghét',\n",
       " 'nhau',\n",
       " '<e>']"
      ]
     },
     "execution_count": 20,
     "metadata": {},
     "output_type": "execute_result"
    }
   ],
   "source": [
    "pair_words[0]"
   ]
  },
  {
   "cell_type": "code",
   "execution_count": 21,
   "metadata": {},
   "outputs": [
    {
     "data": {
      "text/plain": [
       "['<s>',\n",
       " 'lời',\n",
       " 'quê',\n",
       " 'chắp',\n",
       " 'nhặt',\n",
       " 'dông',\n",
       " 'dài',\n",
       " '<m>',\n",
       " 'mua',\n",
       " 'vui',\n",
       " 'cũng',\n",
       " 'được',\n",
       " 'một',\n",
       " 'vài',\n",
       " 'trống',\n",
       " 'canh',\n",
       " '<e>']"
      ]
     },
     "execution_count": 21,
     "metadata": {},
     "output_type": "execute_result"
    }
   ],
   "source": [
    "pair_words[-1]"
   ]
  },
  {
   "cell_type": "markdown",
   "metadata": {},
   "source": [
    "Mô hình bigram (cặp từ) dùng thông tin bigram để sinh các từ. Cụ thể, để sinh từ sau từ `w`, ta dùng các bigram bắt đầu là `w` và để sinh từ trước từ `w`, ta dùng các bigram kết thúc là `w`. Việc lựa chọn từ thường dựa trên tần số từ. Do đó ta xây dựng các từ điển (`dict`) mô tả các từ theo sau và đằng trước một từ (cùng tần số tương ứng)."
   ]
  },
  {
   "cell_type": "code",
   "execution_count": 22,
   "metadata": {},
   "outputs": [],
   "source": [
    "from collections import Counter\n",
    "\n",
    "unique_words = list(set(words))\n",
    "next_dict = {w: Counter() for w in unique_words + [\"<s>\", \"<m>\", \"<e>\"]}\n",
    "prev_dict = {w: Counter() for w in unique_words + [\"<s>\", \"<m>\", \"<e>\"]}\n",
    "\n",
    "for pw in pair_words:\n",
    "    for w1, w2 in zip(pw[:-1], pw[1:]):\n",
    "        next_dict[w1].update([w2])\n",
    "        prev_dict[w2].update([w1])"
   ]
  },
  {
   "cell_type": "markdown",
   "metadata": {},
   "source": [
    "Chẳng hạn, 10 từ bắt đầu câu lục (theo sau từ `<s>`) phổ biến nhất là"
   ]
  },
  {
   "cell_type": "code",
   "execution_count": 23,
   "metadata": {},
   "outputs": [
    {
     "data": {
      "text/plain": [
       "[('nàng', 56),\n",
       " ('một', 39),\n",
       " ('rằng', 29),\n",
       " ('sinh', 23),\n",
       " ('đã', 22),\n",
       " ('nghĩ', 19),\n",
       " ('những', 17),\n",
       " ('người', 15),\n",
       " ('khi', 15),\n",
       " ('có', 14)]"
      ]
     },
     "execution_count": 23,
     "metadata": {},
     "output_type": "execute_result"
    }
   ],
   "source": [
    "next_dict[\"<s>\"].most_common(10)"
   ]
  },
  {
   "cell_type": "markdown",
   "metadata": {},
   "source": [
    "Hay, 10 từ phổ biến nhất theo sau từ thúy là"
   ]
  },
  {
   "cell_type": "code",
   "execution_count": 24,
   "metadata": {},
   "outputs": [
    {
     "data": {
      "text/plain": [
       "[('kiều', 4), ('vân', 4), ('nét', 1), ('chia', 1), ('dò', 1)]"
      ]
     },
     "execution_count": 24,
     "metadata": {},
     "output_type": "execute_result"
    }
   ],
   "source": [
    "next_dict[\"thúy\"].most_common(10)"
   ]
  },
  {
   "cell_type": "markdown",
   "metadata": {},
   "source": [
    "10 từ kết thúc câu bát (đằng trước từ `<e>`) phổ biến nhất là"
   ]
  },
  {
   "cell_type": "code",
   "execution_count": 25,
   "metadata": {},
   "outputs": [
    {
     "data": {
      "text/plain": [
       "[('ai', 29),\n",
       " ('đây', 29),\n",
       " ('thôi', 24),\n",
       " ('sau', 23),\n",
       " ('xa', 23),\n",
       " ('sao', 23),\n",
       " ('ra', 22),\n",
       " ('tình', 22),\n",
       " ('hoa', 21),\n",
       " ('đâu', 20)]"
      ]
     },
     "execution_count": 25,
     "metadata": {},
     "output_type": "execute_result"
    }
   ],
   "source": [
    "prev_dict[\"<e>\"].most_common(10)"
   ]
  },
  {
   "cell_type": "markdown",
   "metadata": {},
   "source": [
    "10 từ phổ biến nhất đằng trước từ kiều là"
   ]
  },
  {
   "cell_type": "code",
   "execution_count": 26,
   "metadata": {},
   "outputs": [
    {
     "data": {
      "text/plain": [
       "[('<s>', 7),\n",
       " ('thúy', 4),\n",
       " ('tiếng', 3),\n",
       " ('nàng', 3),\n",
       " ('hai', 2),\n",
       " ('lam', 2),\n",
       " ('mã', 2),\n",
       " ('nghe', 1),\n",
       " ('tiểu', 1),\n",
       " ('giọng', 1)]"
      ]
     },
     "execution_count": 26,
     "metadata": {},
     "output_type": "execute_result"
    }
   ],
   "source": [
    "prev_dict[\"kiều\"].most_common(10)"
   ]
  },
  {
   "cell_type": "markdown",
   "metadata": {},
   "source": [
    "Liệt kê 10 từ kết thúc câu lục phổ biến nhất (các từ trước `<m>`)"
   ]
  },
  {
   "cell_type": "code",
   "execution_count": 27,
   "metadata": {},
   "outputs": [
    {
     "data": {
      "text/plain": [
       "[('người', 27),\n",
       " ('lời', 27),\n",
       " ('trời', 24),\n",
       " ('nhà', 24),\n",
       " ('tình', 20),\n",
       " ('đường', 20),\n",
       " ('vàng', 19),\n",
       " ('lòng', 17),\n",
       " ('hoa', 17),\n",
       " ('đào', 16)]"
      ]
     },
     "execution_count": 27,
     "metadata": {},
     "output_type": "execute_result"
    }
   ],
   "source": [
    "prev_dict[\"<m>\"].most_common(10)"
   ]
  },
  {
   "cell_type": "markdown",
   "metadata": {},
   "source": [
    "Liệt kê 10 từ bắt đầu \"câu bát\" phổ biến nhất (các từ sau `<m>`)"
   ]
  },
  {
   "cell_type": "code",
   "execution_count": 28,
   "metadata": {},
   "outputs": [
    {
     "data": {
      "text/plain": [
       "[('một', 40),\n",
       " ('làm', 18),\n",
       " ('mà', 17),\n",
       " ('nỗi', 17),\n",
       " ('hoa', 15),\n",
       " ('có', 15),\n",
       " ('cũng', 15),\n",
       " ('còn', 15),\n",
       " ('đã', 14),\n",
       " ('lòng', 12)]"
      ]
     },
     "execution_count": 28,
     "metadata": {},
     "output_type": "execute_result"
    }
   ],
   "source": [
    "next_dict[\"<m>\"].most_common(10)"
   ]
  },
  {
   "cell_type": "markdown",
   "metadata": {},
   "source": [
    "Sau đây ta sinh một câu thơ bằng chiến lược đơn giản nhất: nửa đầu câu ta dùng tần số từ đằng sau và nửa cuối câu ta dùng tần số từ đằng trước để sinh ngẫu nhiên các từ một cách tuần tự.\n",
    "\n",
    "Để sinh cặp câu thơ lục bát, ta sinh câu lục (bắt đầu là `<s>`, kết thúc là `<m>`) và câu bát (bắt đầu là `<m>`, kết thúc là `<e>`) rồi ghép lại."
   ]
  },
  {
   "cell_type": "code",
   "execution_count": 41,
   "metadata": {},
   "outputs": [],
   "source": [
    "import random\n",
    "\n",
    "def gen_word(word_dict, w):\n",
    "    if w not in word_dict or not word_dict[w]:\n",
    "        return random.choice(words)\n",
    "    return random.choices(list(word_dict[w].keys()), weights=word_dict[w].values())[0]\n",
    "\n",
    "def gen_sentence(start_word, end_word, num):\n",
    "    start_part, word = [start_word], start_word\n",
    "    for i in range(num // 2):\n",
    "        word = gen_word(next_dict, word)\n",
    "        start_part.append(word)\n",
    "    end_part, word = [end_word], end_word\n",
    "    for i in range(num - num // 2):\n",
    "        word = gen_word(prev_dict, word)\n",
    "        end_part.append(word)\n",
    "    return start_part + list(reversed(end_part))\n",
    "\n",
    "def gen_pair_sentence():\n",
    "    sen_6 = gen_sentence(\"<s>\", \"<m>\", 6)\n",
    "    sen_8 = gen_sentence(\"<m>\", \"<e>\", 8)\n",
    "    return \" \".join(sen_6[1:-1]) + \"\\n\" + \" \".join(sen_8[1:-1])"
   ]
  },
  {
   "cell_type": "code",
   "execution_count": 42,
   "metadata": {},
   "outputs": [
    {
     "name": "stdout",
     "output_type": "stream",
     "text": [
      "khóc rằng hồng chẳng có tuyền\n",
      "lần <e> chì quản nhi phận mình cay\n"
     ]
    }
   ],
   "source": [
    "print(gen_pair_sentence())"
   ]
  },
  {
   "cell_type": "markdown",
   "metadata": {},
   "source": [
    "*Thơ con cóc ghẻ!*"
   ]
  },
  {
   "cell_type": "markdown",
   "metadata": {},
   "source": [
    "Ta cải tiến thêm một chút với các lưu ý:\n",
    "\n",
    "1. Các từ cần \"liên kết trơn tru hơn\".\n",
    "\n",
    "1. Không có các từ đặc biệt `<s>`, `<m>`, `<e>` giữa câu.\n",
    "\n",
    "1. Từ cuối của câu bát phải vần với từ thứ 6 của câu lục."
   ]
  },
  {
   "cell_type": "code",
   "execution_count": 43,
   "metadata": {},
   "outputs": [],
   "source": [
    "rhyme_dict = {w: Counter() for w in unique_words}\n",
    "for pw in pair_words:\n",
    "    rhyme_dict[pw[6]].update([pw[13]])"
   ]
  },
  {
   "cell_type": "code",
   "execution_count": 32,
   "metadata": {},
   "outputs": [
    {
     "data": {
      "text/plain": [
       "Counter({'là': 7, 'nhà': 2, 'hoa': 2, 'ma': 1, 'đà': 1, 'ra': 1, 'ba': 1})"
      ]
     },
     "execution_count": 32,
     "metadata": {},
     "output_type": "execute_result"
    }
   ],
   "source": [
    "rhyme_dict[\"ta\"]"
   ]
  },
  {
   "cell_type": "code",
   "execution_count": 33,
   "metadata": {},
   "outputs": [
    {
     "data": {
      "text/plain": [
       "Counter()"
      ]
     },
     "execution_count": 33,
     "metadata": {},
     "output_type": "execute_result"
    }
   ],
   "source": [
    "rhyme_dict[\"một\"]"
   ]
  },
  {
   "cell_type": "code",
   "execution_count": 34,
   "metadata": {},
   "outputs": [],
   "source": [
    "def gen_sentence2(start_word, end_word, num):\n",
    "    while True:\n",
    "        start_part, word = [start_word], start_word\n",
    "        for i in range(num // 2):\n",
    "            word = gen_word(next_dict, word)\n",
    "            start_part.append(word)\n",
    "        end_part, word = [end_word], end_word\n",
    "        for i in range(num - num // 2):\n",
    "            word = gen_word(prev_dict, word)\n",
    "            end_part.append(word)\n",
    "        if end_part[-1] in next_dict[start_part[-1]]:\n",
    "            return start_part + list(reversed(end_part))\n",
    "\n",
    "def gen_pair_sentence2():\n",
    "    while True:\n",
    "        sen_6 = gen_sentence2(\"<s>\", \"<m>\", 6)[1:-1]\n",
    "        sen_8_rhyme_word = gen_word(rhyme_dict, sen_6[-1])\n",
    "        sen_8_part1 = gen_sentence2(\"<m>\", sen_8_rhyme_word, 5)[1:]\n",
    "        sen_8_part2 = gen_sentence2(sen_8_rhyme_word, \"<e>\", 2)[1:-1]\n",
    "        sen_8 = sen_8_part1 + sen_8_part2\n",
    "        if not any(k in sen_6 or k in sen_8 for k in [\"<s>\", \"<m>\", \"<e>\"]):\n",
    "            return \" \".join(sen_6) + \"\\n\" + \" \".join(sen_8)"
   ]
  },
  {
   "cell_type": "code",
   "execution_count": 35,
   "metadata": {},
   "outputs": [
    {
     "name": "stdout",
     "output_type": "stream",
     "text": [
      "đem mệnh phụ người thấy xuân\n",
      "nửa ở lòng tử giai lần lần thu\n"
     ]
    }
   ],
   "source": [
    "print(gen_pair_sentence2())"
   ]
  },
  {
   "cell_type": "markdown",
   "metadata": {},
   "source": [
    "*Thơ con cóc!*"
   ]
  },
  {
   "cell_type": "markdown",
   "metadata": {},
   "source": [
    "### Câu 14 (3 đ)\n",
    "\n",
    "Thử sửa code để sinh cặp lục bát theo các ý sau:\n",
    "\n",
    "1. Cho trước từ đầu câu lục\n",
    "\n",
    "1. Cho trước từ cuối câu lục\n",
    "\n",
    "1. Cho trước từ đầu câu bát\n",
    "\n",
    "1. Cho trước từ thứ 6 câu bát\n",
    "\n",
    "1. Cho trước từ cuối câu bát\n",
    "\n",
    "1. Kết hợp các cách trên\n",
    "\n",
    "1. Có chứa cụm từ nào đó\n",
    "\n",
    "1. ..."
   ]
  },
  {
   "cell_type": "code",
   "execution_count": 36,
   "metadata": {},
   "outputs": [
    {
     "name": "stdout",
     "output_type": "stream",
     "text": [
      "rằng phổ ấy tay một bề\n",
      "dàu như gần xa nàng về nhà về\n"
     ]
    }
   ],
   "source": [
    "#1. Cho trước từ đầu câu lục\n",
    "def gen_pair_sentence_6_start(sen_6_start_word):\n",
    "    while True:\n",
    "        sen_6 = gen_sentence2(sen_6_start_word, '<m>', 6)[0:-2]\n",
    "        sen_8_rhyme_word = gen_word(rhyme_dict, sen_6[-1])\n",
    "        sen_8_part1 = gen_sentence2('<m>', sen_8_rhyme_word, 5)[1:]\n",
    "        sen_8_part2 = gen_sentence2(sen_8_rhyme_word, '<e>', 2)[1:-1]\n",
    "        sen_8 = sen_8_part1 + sen_8_part2\n",
    "        if not any(k in sen_6 or k in sen_8 for k in ['<s>', '<m>', '<e>']):\n",
    "            return ' '.join(sen_6) +'\\n'+ ' '.join(sen_8)\n",
    "sen_6_start_word = 'rằng' #Từ bắt đầu câu 6\n",
    "print(gen_pair_sentence_6_start(sen_6_start_word))"
   ]
  },
  {
   "cell_type": "code",
   "execution_count": 37,
   "metadata": {},
   "outputs": [
    {
     "name": "stdout",
     "output_type": "stream",
     "text": [
      "hẳn duyên nào đã dễ đâu\n",
      "tường nghe lời con én liệng lầu xanh\n"
     ]
    }
   ],
   "source": [
    "# 5. Cho trước từ cuối câu bát\n",
    "def gen_pair_sentence_8_end(sen_8_end_word):\n",
    "    while True:\n",
    "        sen_8 = gen_sentence2('m>', sen_8_end_word, 7)[-8:]\n",
    "        sen_6_rhyme_word =  gen_word(rhyme_dict, sen_8[5])\n",
    "        sen_6 =  gen_sentence2('<s>', sen_6_rhyme_word, 6)[1:-1]\n",
    "        if not any(k in sen_6 or k in sen_8 for k in ['<s>', '<m>', '<e>']):\n",
    "            return ' '.join(sen_6)+ '\\n' +' '.join(sen_8)\n",
    "sen_8_end_word = 'xanh' # Từ bắt đầu câu bát\n",
    "print(gen_pair_sentence_8_end(sen_8_end_word))\n"
   ]
  },
  {
   "cell_type": "code",
   "execution_count": 38,
   "metadata": {},
   "outputs": [
    {
     "name": "stdout",
     "output_type": "stream",
     "text": [
      "đền cho thân bèo hợp mà\n",
      "bấy nhiêu cũng yêu chốc là cõi nam\n"
     ]
    }
   ],
   "source": [
    "# 2. Cho trước từ cuối câu lục\n",
    "def gen_pair_sentence_6_end(sen_6_end_word):\n",
    "    while True:\n",
    "        sen_6 = gen_sentence2('<s>', sen_6_end_word, 6)[2:]\n",
    "        sen_8_rhyme_word = gen_word(rhyme_dict, sen_6[-1])\n",
    "        sen_8_part1 = gen_sentence2('<m>', sen_8_rhyme_word, 5)[1:]\n",
    "        sen_8_part2 = gen_sentence2(sen_8_rhyme_word, '<e>', 2)[1:-1]\n",
    "        sen_8 =  sen_8_part1 +  sen_8_part2\n",
    "        if not any(k in sen_6 or k in sen_8 for k in ['<s>', '<m>', '<e>']):\n",
    "            return ' '.join(sen_6) + '\\n'+ ' '.join(sen_8)\n",
    "sen_6_end_word = 'mà' # từ kết thúc câu lục\n",
    "print(gen_pair_sentence_6_end(sen_6_end_word))"
   ]
  },
  {
   "cell_type": "code",
   "execution_count": 39,
   "metadata": {},
   "outputs": [
    {
     "name": "stdout",
     "output_type": "stream",
     "text": [
      "hồ vắng tin xuân một dải\n",
      "phong cảnh nào đã phụ lòng làm sao\n"
     ]
    }
   ],
   "source": [
    "# 3. Cho trước đầu câu bát\n",
    "def gen_pair_sentence_8_start(sen_8_start_word):\n",
    "    while True :\n",
    "        sen_8 = gen_sentence2(sen_8_start_word, '<e>', 7)[:8]\n",
    "        sen_6_rhyme_word = gen_word(rhyme_dict, sen_8[5])\n",
    "        sen_6= gen_sentence2('<s>', sen_6_rhyme_word, 6)[1:-1]\n",
    "        if not any(k in sen_6 or k in sen_8 for k in ['<s>', '<m>', '<e>']):\n",
    "            return ' '.join(sen_6) +'\\n' +' '.join(sen_8)\n",
    "sen_8_start_word = 'phong' # từ bắt đầu câu bát\n",
    "print(gen_pair_sentence_8_start(sen_8_start_word))"
   ]
  }
 ],
 "metadata": {
  "kernelspec": {
   "display_name": "Python 3",
   "language": "python",
   "name": "python3"
  },
  "language_info": {
   "codemirror_mode": {
    "name": "ipython",
    "version": 3
   },
   "file_extension": ".py",
   "mimetype": "text/x-python",
   "name": "python",
   "nbconvert_exporter": "python",
   "pygments_lexer": "ipython3",
   "version": "3.10.13"
  }
 },
 "nbformat": 4,
 "nbformat_minor": 4
}
